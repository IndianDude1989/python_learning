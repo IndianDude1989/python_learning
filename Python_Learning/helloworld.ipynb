{
 "cells": [
  {
   "cell_type": "code",
   "execution_count": null,
   "metadata": {},
   "outputs": [],
   "source": [
    "message = input('Hi, what is your name?\\n')\n",
    "print('Hello ' + message + ', Welcome to the world of Python!\\n')"
   ]
  },
  {
   "cell_type": "code",
   "execution_count": null,
   "metadata": {},
   "outputs": [],
   "source": [
    "# change cases\n",
    "name = input('Hello, please enter your name:\\n')\n",
    "print('Your name in title case is:\\t' + name.title())\n",
    "print('Your name in upper case is:\\t' + name.upper())\n",
    "print('Your name in lower case is:\\t' + name.lower())"
   ]
  },
  {
   "cell_type": "code",
   "execution_count": 5,
   "metadata": {},
   "outputs": [
    {
     "name": "stdout",
     "output_type": "stream",
     "text": [
      "\tBruce Lee once said:\n",
      "\t\t“Empty your mind. Be formless. Shapeless. Like water. You put water into a cup, it becomes the cup. You put water into a bottle, it becomes the bottle. You put it in a teapot, it becomes the teapot. Water can flow, or it can crash. Be water, my friend.”\n"
     ]
    }
   ],
   "source": [
    "famous_name = 'Bruce Lee'\n",
    "famous_quote = '“Empty your mind. Be formless. Shapeless. Like water. You put water into a cup, it becomes the cup. You put water into a bottle, it becomes the bottle. You put it in a teapot, it becomes the teapot. Water can flow, or it can crash. Be water, my friend.”'\n",
    "print('\\t' + famous_name + ' once said:\\n\\t\\t' + famous_quote)\n"
   ]
  },
  {
   "cell_type": "code",
   "execution_count": null,
   "metadata": {},
   "outputs": [],
   "source": [
    "# strip spaces\n",
    "name = input('Hello, please enter your name:\\n')\n",
    "print('Your name with left side spaces stripped is:\\n' + name.lstrip())\n",
    "print('Your name with right side spaces stripped is:\\n' + name.rstrip())\n",
    "print('Your name with both side spaces stripped is:\\n' + name.strip())"
   ]
  },
  {
   "cell_type": "code",
   "execution_count": 1,
   "metadata": {},
   "outputs": [
    {
     "name": "stdout",
     "output_type": "stream",
     "text": [
      "Hello world!\n"
     ]
    }
   ],
   "source": []
  },
  {
   "cell_type": "code",
   "execution_count": 10,
   "metadata": {},
   "outputs": [
    {
     "name": "stdout",
     "output_type": "stream",
     "text": [
      "my fav number is: 3\n"
     ]
    }
   ],
   "source": [
    "fav_num = 3\n",
    "print('my fav number is: ' + str(fav_num))"
   ]
  }
 ],
 "metadata": {
  "kernelspec": {
   "display_name": "Python 3",
   "language": "python",
   "name": "python3"
  },
  "language_info": {
   "codemirror_mode": {
    "name": "ipython",
    "version": 3
   },
   "file_extension": ".py",
   "mimetype": "text/x-python",
   "name": "python",
   "nbconvert_exporter": "python",
   "pygments_lexer": "ipython3",
   "version": "3.11.1"
  },
  "orig_nbformat": 4
 },
 "nbformat": 4,
 "nbformat_minor": 2
}
